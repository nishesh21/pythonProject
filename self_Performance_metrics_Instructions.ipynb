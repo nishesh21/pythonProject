{
  "nbformat": 4,
  "nbformat_minor": 0,
  "metadata": {
    "colab": {
      "name": "self_Performance_metrics_Instructions.ipynb",
      "provenance": [],
      "collapsed_sections": [],
      "include_colab_link": true
    },
    "language_info": {
      "codemirror_mode": {
        "name": "ipython",
        "version": 3
      },
      "file_extension": ".py",
      "mimetype": "text/x-python",
      "name": "python",
      "nbconvert_exporter": "python",
      "pygments_lexer": "ipython3",
      "version": "3.6.8"
    },
    "kernelspec": {
      "display_name": "Python 3",
      "language": "python",
      "name": "python3"
    }
  },
  "cells": [
    {
      "cell_type": "markdown",
      "metadata": {
        "id": "view-in-github",
        "colab_type": "text"
      },
      "source": [
        "<a href=\"https://colab.research.google.com/github/nishesh21/pythonProject/blob/main/self_Performance_metrics_Instructions.ipynb\" target=\"_parent\"><img src=\"https://colab.research.google.com/assets/colab-badge.svg\" alt=\"Open In Colab\"/></a>"
      ]
    },
    {
      "cell_type": "markdown",
      "metadata": {
        "id": "s0Ej_bXyQvnV"
      },
      "source": [
        "# Compute performance metrics for the given Y and Y_score without sklearn"
      ]
    },
    {
      "cell_type": "code",
      "metadata": {
        "id": "WaFLW7oBQvnt",
        "colab": {
          "base_uri": "https://localhost:8080/"
        },
        "outputId": "e30cd155-bc5f-4e55-a147-94b06ba80305"
      },
      "source": [
        "#1st case, (for 5_a.csv data)\n",
        "#computing confusion matrix\n",
        "import numpy as np\n",
        "import pandas as pd\n",
        "df1=pd.read_csv(\"5_a.csv\")\n",
        "#ypred is basically the predictions made by model\n",
        "df1['ypred']=np.where(df1['proba']>=0.5,1,0)\n",
        "\n",
        "\n",
        "yactual=df1['y'].to_numpy().astype(int)\n",
        "ypredicted=df1['ypred'].to_numpy()\n",
        "print(yactual)\n",
        "print(ypredicted)\n",
        "\n",
        "#reference took from https://stackoverflow.com/questions/2148543/how-to-write-a-confusion-matrix-in-python\n",
        "def confusion_matrix(actual_y,predicted_y):\n",
        "  conf_mat=np.zeros((2,2))#here we have only 2 classes\n",
        "  for i,j in zip(actual_y,predicted_y):#here i am just using a zip function to create pairs\n",
        "    conf_mat[i][j] += 1 # lets say i=1 and j=1, then this will add 1 to that position, initially conf_mat[1][1]=0, then 1 ia added so conf_mat[1][1]=1 and so on.\n",
        "  return conf_mat\n"
      ],
      "execution_count": null,
      "outputs": [
        {
          "output_type": "stream",
          "text": [
            "[1 1 1 ... 1 1 1]\n",
            "[1 1 1 ... 1 1 1]\n"
          ],
          "name": "stdout"
        }
      ]
    },
    {
      "cell_type": "code",
      "metadata": {
        "colab": {
          "base_uri": "https://localhost:8080/"
        },
        "id": "bOA-2A5uUnxS",
        "outputId": "accc82aa-e1ac-45ab-c6e0-192509f88d6d"
      },
      "source": [
        "#function run(confusion_matrix)\n",
        "a=confusion_matrix(yactual,ypredicted)\n",
        "print(a)\n",
        "\n"
      ],
      "execution_count": null,
      "outputs": [
        {
          "output_type": "stream",
          "text": [
            "[[    0.   100.]\n",
            " [    0. 10000.]]\n"
          ],
          "name": "stdout"
        }
      ]
    },
    {
      "cell_type": "code",
      "metadata": {
        "id": "HHfB0SPGUnnf"
      },
      "source": [
        "#2. computing f1 score, f1 score is defined by 2*P*R/P+R(P IS PRECISION AND R IS RECALL)(for 5_a.csv)\n",
        "\n",
        "import pandas as pd\n",
        "import numpy as np\n",
        "from tqdm import tqdm\n",
        "df1=pd.read_csv(\"5_a.csv\")\n",
        "df1['ypred']=np.where(df1['proba']>=0.5,1,0)\n",
        "\n",
        "\n",
        "def F1_score(data):\n",
        "  Tp=((data['y']==1) & (data['ypred']==1)).sum()\n",
        "  Tn=((data['y']==0) & (data['ypred']==0)).sum()\n",
        "  Fp=((data['y']==0) & (data['ypred']==1)).sum()\n",
        "  Fn=((data['y']==1) & (data['ypred']==0)).sum()\n",
        " \n",
        "  \n",
        "  Precision=Tp/(Tp+Fp)\n",
        "  Recall=Tp/(Tp+Fn)\n",
        "  F1=2*Precision*Recall/(Precision+Recall)\n",
        "\n",
        "  return F1\n",
        "  \n",
        "  \n",
        "\n"
      ],
      "execution_count": null,
      "outputs": []
    },
    {
      "cell_type": "code",
      "metadata": {
        "id": "bzAtOGHeTwpa",
        "colab": {
          "base_uri": "https://localhost:8080/"
        },
        "outputId": "84f7efd4-61b5-487d-c0b7-e78f309484a0"
      },
      "source": [
        "#function run(F1_score)\n",
        "F1_score(df1)"
      ],
      "execution_count": null,
      "outputs": [
        {
          "output_type": "execute_result",
          "data": {
            "text/plain": [
              "0.9950248756218906"
            ]
          },
          "metadata": {
            "tags": []
          },
          "execution_count": 42
        }
      ]
    },
    {
      "cell_type": "code",
      "metadata": {
        "id": "SD27cU39bRhv"
      },
      "source": [
        "#3. calculating  Auc_score (for 5_a.csv)\n",
        "\n",
        "import pandas as pd\n",
        "import numpy as np\n",
        "from tqdm import tqdm\n",
        "df1=pd.read_csv(\"5_a.csv\")\n",
        "for i in df1['proba']:\n",
        "  if i>=0.5:\n",
        "    df1['ypred']=1\n",
        "  else:\n",
        "    df1['ypred']=0\n",
        "df1=df1.sort_values(by=['proba'],ascending=False)\n",
        "\n",
        "\n",
        "def auc_s(data):\n",
        "  tpr=[]\n",
        "  fpr=[]\n",
        "  for threshold in tqdm(data['proba'].unique()):\n",
        "\n",
        "    data['ythreshold']=np.where(data['proba']>=threshold,1,0)\n",
        "    Tp=((data['y']==1) & (data['ythreshold']==1)).sum()\n",
        "    Tn=((data['y']==0) & (data['ythreshold']==0)).sum()\n",
        "    Fp=((data['y']==0) & (data['ythreshold']==1)).sum()\n",
        "    Fn=((data['y']==1) & (data['ythreshold']==0)).sum()\n",
        "    true_positive_rate=Tp/(Tp+Fn)\n",
        "    tpr.append(true_positive_rate)\n",
        "    \n",
        "    false_positive_rate=Fp/(Tn+Fp)\n",
        "    fpr.append(false_positive_rate)\n",
        "\n",
        "\n",
        "  print(\"length of tpr is\",len(tpr))\n",
        "  print(\"length of fpr is \",len(fpr))\n",
        "  auc_score=np.trapz(tpr,fpr)\n",
        "  print(auc_score)\n",
        "\n",
        "  return auc_score\n",
        "\n",
        "\n",
        "\n"
      ],
      "execution_count": null,
      "outputs": []
    },
    {
      "cell_type": "code",
      "metadata": {
        "id": "1sQKsGuXx-3u",
        "colab": {
          "base_uri": "https://localhost:8080/"
        },
        "outputId": "3b45fece-8752-44db-a4a8-625c891d9870"
      },
      "source": [
        "#function run(auc_score)\n",
        "auc_s(df1)"
      ],
      "execution_count": null,
      "outputs": [
        {
          "output_type": "stream",
          "text": [
            "100%|██████████| 10100/10100 [00:48<00:00, 208.15it/s]"
          ],
          "name": "stderr"
        },
        {
          "output_type": "stream",
          "text": [
            "length of tpr is 10100\n",
            "length of fpr is  10100\n",
            "0.48829900000000004\n"
          ],
          "name": "stdout"
        },
        {
          "output_type": "stream",
          "text": [
            "\n"
          ],
          "name": "stderr"
        },
        {
          "output_type": "execute_result",
          "data": {
            "text/plain": [
              "0.48829900000000004"
            ]
          },
          "metadata": {
            "tags": []
          },
          "execution_count": 44
        }
      ]
    },
    {
      "cell_type": "code",
      "metadata": {
        "id": "S1fhrG6GmlIN"
      },
      "source": [
        "#4. computing accuracy score\n",
        "import pandas as pd\n",
        "import numpy as np\n",
        "from tqdm import tqdm\n",
        "df1=pd.read_csv(\"5_a.csv\")\n",
        "for i in df1['proba']:\n",
        "  if i>=0.5:\n",
        "    df1['ypred']=1\n",
        "  else:\n",
        "    df1['ypred']=0\n",
        "\n",
        "def accuracy_score(data):\n",
        "  Tp=((data['y']==1) & (data['ypred']==1)).sum()\n",
        "  Tn=((data['y']==0) & (data['ypred']==0)).sum()\n",
        "  Fp=((data['y']==0) & (data['ypred']==1)).sum()\n",
        "  Fn=((data['y']==1) & (data['ypred']==0)).sum()\n",
        " \n",
        "\n",
        "  accuracy= (Tp+Tn)/(Tp+Tn+Fp+Fn)\n",
        "\n",
        "  return accuracy\n"
      ],
      "execution_count": null,
      "outputs": []
    },
    {
      "cell_type": "code",
      "metadata": {
        "id": "Sl2xZWr8az2f",
        "colab": {
          "base_uri": "https://localhost:8080/"
        },
        "outputId": "27190bd6-e85f-4f0e-9f05-5a26e26dcb82"
      },
      "source": [
        "#function run(accuracy_score)\n",
        "accuracy_score(df1)\n"
      ],
      "execution_count": null,
      "outputs": [
        {
          "output_type": "execute_result",
          "data": {
            "text/plain": [
              "0.9900990099009901"
            ]
          },
          "metadata": {
            "tags": []
          },
          "execution_count": 46
        }
      ]
    },
    {
      "cell_type": "code",
      "metadata": {
        "id": "U2sKlq0YQvn5",
        "colab": {
          "base_uri": "https://localhost:8080/"
        },
        "outputId": "8a0688f2-b599-4f9e-c012-82da14c43768"
      },
      "source": [
        "#TASK2 \n",
        "#confusion matrix(for 5_b.csv)\n",
        "import numpy as np\n",
        "import pandas as pd\n",
        "df2=pd.read_csv(\"5_b.csv\")\n",
        "#ypred is basically the predictions made by model\n",
        "df2['ypred']=np.where(df2['proba']>=0.5,1,0)\n",
        "\n",
        "yactual=df2['y'].to_numpy().astype(int)\n",
        "ypredicted=df2['ypred'].to_numpy()\n",
        "print(yactual)\n",
        "print(ypredicted)\n",
        "\n",
        "#reference took from https://stackoverflow.com/questions/2148543/how-to-write-a-confusion-matrix-in-python\n",
        "def confusion_matrix1(actual_y,predicted_y):\n",
        "  conf_mat=np.zeros((2,2))#here we have only 2 classes\n",
        "  for i,j in zip(actual_y,predicted_y):#here i am just using a zip function to create pairs\n",
        "    conf_mat[i][j] += 1 # lets say i=1 and j=1, then this will add 1 to that position, initially conf_mat[1][1]=0, then 1 ia added so conf_mat[1][1]=1 and so on.\n",
        "  return conf_mat\n",
        "\n"
      ],
      "execution_count": null,
      "outputs": [
        {
          "output_type": "stream",
          "text": [
            "[0 0 0 ... 0 0 0]\n",
            "[0 0 0 ... 0 0 0]\n"
          ],
          "name": "stdout"
        }
      ]
    },
    {
      "cell_type": "code",
      "metadata": {
        "colab": {
          "base_uri": "https://localhost:8080/"
        },
        "id": "f3_BSblygAJz",
        "outputId": "5183f8ff-feeb-4fda-cb15-7f6f4e65ac30"
      },
      "source": [
        "#function run(confusion_matrix)(for 5_b matrix)\n",
        "b=confusion_matrix1(yactual,ypredicted)\n",
        "print(b)"
      ],
      "execution_count": null,
      "outputs": [
        {
          "output_type": "stream",
          "text": [
            "[[9761.  239.]\n",
            " [  45.   55.]]\n"
          ],
          "name": "stdout"
        }
      ]
    },
    {
      "cell_type": "code",
      "metadata": {
        "id": "lbdl43gOBvg4"
      },
      "source": [
        "#2. computing f1 score, f1 score is defined by 2*P*R/P+R(P IS PRECISION AND R IS RECALL)(for 5_b.csv)\n",
        "\n",
        "import pandas as pd\n",
        "import numpy as np\n",
        "from tqdm import tqdm\n",
        "df2=pd.read_csv(\"5_b.csv\")\n",
        "df2['ypred']=np.where(df2['proba']>=0.5,1,0)\n",
        "\n",
        "\n",
        "def F1_score(data):\n",
        "  Tp=((data['y']==1) & (data['ypred']==1)).sum()\n",
        "  Tn=((data['y']==0) & (data['ypred']==0)).sum()\n",
        "  Fp=((data['y']==0) & (data['ypred']==1)).sum()\n",
        "  Fn=((data['y']==1) & (data['ypred']==0)).sum()\n",
        " \n",
        "  \n",
        "  Precision=Tp/(Tp+Fp)\n",
        "  Recall=Tp/(Tp+Fn)\n",
        "  F1=2*Precision*Recall/(Precision+Recall)\n",
        "\n",
        "  return F1\n",
        "  \n",
        "  \n",
        "\n",
        "\n"
      ],
      "execution_count": null,
      "outputs": []
    },
    {
      "cell_type": "code",
      "metadata": {
        "colab": {
          "base_uri": "https://localhost:8080/"
        },
        "id": "jevCTuQbf_ha",
        "outputId": "826c5e3c-e05b-4949-ba18-88ecc2a65093"
      },
      "source": [
        "#function run(F1_score)\n",
        "F1_score(df2)"
      ],
      "execution_count": null,
      "outputs": [
        {
          "output_type": "execute_result",
          "data": {
            "text/plain": [
              "0.2791878172588833"
            ]
          },
          "metadata": {
            "tags": []
          },
          "execution_count": 36
        }
      ]
    },
    {
      "cell_type": "code",
      "metadata": {
        "id": "6Ji4qBnu3H0H"
      },
      "source": [
        "#3. calculating  Auc_score (for 5_b.csv)\n",
        "\n",
        "import pandas as pd\n",
        "import numpy as np\n",
        "from tqdm import tqdm\n",
        "df2=pd.read_csv(\"5_b.csv\")\n",
        "df2=df2.sort_values(by=['proba'],ascending=False)\n",
        "\n",
        "\n",
        "def auc_s(data):\n",
        "  tpr=[]\n",
        "  fpr=[]\n",
        "  for threshold in tqdm(data['proba'].unique()):\n",
        "\n",
        "    data['ythreshold']=np.where(data['proba']>=threshold,1,0)\n",
        "    Tp=((data['y']==1) & (data['ythreshold']==1)).sum()\n",
        "    Tn=((data['y']==0) & (data['ythreshold']==0)).sum()\n",
        "    Fp=((data['y']==0) & (data['ythreshold']==1)).sum()\n",
        "    Fn=((data['y']==1) & (data['ythreshold']==0)).sum()\n",
        "    true_positive_rate=Tp/(Tp+Fn)\n",
        "    tpr.append(true_positive_rate)\n",
        "    \n",
        "    false_positive_rate=Fp/(Tn+Fp)\n",
        "    fpr.append(false_positive_rate)\n",
        "\n",
        "\n",
        "  print(\"length of tpr is\",len(tpr))\n",
        "  print(\"length of fpr is \",len(fpr))\n",
        "  auc_score=np.trapz(tpr,fpr)\n",
        "  print(auc_score)\n",
        "\n",
        "  return auc_score\n",
        "\n",
        "\n",
        "\n"
      ],
      "execution_count": null,
      "outputs": []
    },
    {
      "cell_type": "code",
      "metadata": {
        "colab": {
          "base_uri": "https://localhost:8080/"
        },
        "id": "qyxxEnJc3CGa",
        "outputId": "3b15ed63-1c3f-478b-f391-ef18e7773176"
      },
      "source": [
        "result=auc_s(df2)"
      ],
      "execution_count": null,
      "outputs": [
        {
          "output_type": "stream",
          "text": [
            "100%|██████████| 10100/10100 [00:47<00:00, 213.92it/s]"
          ],
          "name": "stderr"
        },
        {
          "output_type": "stream",
          "text": [
            "length of tpr is 10100\n",
            "length of fpr is  10100\n",
            "0.9377570000000001\n"
          ],
          "name": "stdout"
        },
        {
          "output_type": "stream",
          "text": [
            "\n"
          ],
          "name": "stderr"
        }
      ]
    },
    {
      "cell_type": "code",
      "metadata": {
        "id": "D_JJxHAh4vP6"
      },
      "source": [
        "#4. computing accuracy score\n",
        "import pandas as pd\n",
        "import numpy as np\n",
        "from tqdm import tqdm\n",
        "df2=pd.read_csv(\"5_b.csv\")\n",
        "df2['ypred']=np.where(df2['proba']>=0.5,1,0)\n",
        "\n",
        "\n",
        "def accuracy_score(data):\n",
        "  Tp=((data['y']==1) & (data['ypred']==1)).sum()\n",
        "  Tn=((data['y']==0) & (data['ypred']==0)).sum()\n",
        "  Fp=((data['y']==0) & (data['ypred']==1)).sum()\n",
        "  Fn=((data['y']==1) & (data['ypred']==0)).sum()\n",
        " \n",
        "\n",
        "  accuracy= (Tp+Tn)/(Tp+Tn+Fp+Fn)\n",
        "\n",
        "  return accuracy\n"
      ],
      "execution_count": null,
      "outputs": []
    },
    {
      "cell_type": "code",
      "metadata": {
        "colab": {
          "base_uri": "https://localhost:8080/"
        },
        "id": "ceYsENMb5QgO",
        "outputId": "7bcc11b6-66e1-400f-dea4-9e0737c812b9"
      },
      "source": [
        "#function run(accuracy_score)\n",
        "accuracy_score(df2)"
      ],
      "execution_count": null,
      "outputs": [
        {
          "output_type": "execute_result",
          "data": {
            "text/plain": [
              "0.9718811881188119"
            ]
          },
          "metadata": {
            "tags": []
          },
          "execution_count": 27
        }
      ]
    },
    {
      "cell_type": "code",
      "metadata": {
        "id": "kASWln1rbRT5",
        "colab": {
          "base_uri": "https://localhost:8080/"
        },
        "outputId": "e96980dd-0af6-454e-b0f6-cec24e54c765"
      },
      "source": [
        "#psudo dataframe to check things\n",
        "da=pd.DataFrame(data=data1)\n",
        "y_true = [3, -0.5, 2, 7]\n",
        "y_pred = [2.5, 0.0, 2, 8]\n",
        "yavg=(sum(y_true))/len(y_true)\n",
        "print(yavg)\n",
        "squares=[]\n",
        "for i in y_true:\n",
        "  squares.append(np.square((i-yavg)))\n",
        "sstotal=sum(squares)\n",
        "\n",
        "error=[]\n",
        "for i,j in zip(y_true,y_pred):\n",
        "  error.append(np.square((i-j)))\n",
        "ssresidual=sum(error)\n",
        "\n",
        "rsquare=1-(ssresidual/sstotal)\n",
        "print(rsquare)"
      ],
      "execution_count": 21,
      "outputs": [
        {
          "output_type": "stream",
          "text": [
            "2.875\n",
            "0.9486081370449679\n"
          ],
          "name": "stdout"
        }
      ]
    },
    {
      "cell_type": "code",
      "metadata": {
        "colab": {
          "base_uri": "https://localhost:8080/"
        },
        "id": "V5gtn9Bh5pYo",
        "outputId": "c200291d-67e6-49c6-a9c9-96a71ab22cc0"
      },
      "source": [
        "from sklearn.metrics import r2_score\n",
        "r2_score(y_true,y_pred)"
      ],
      "execution_count": 19,
      "outputs": [
        {
          "output_type": "execute_result",
          "data": {
            "text/plain": [
              "0.9486081370449679"
            ]
          },
          "metadata": {
            "tags": []
          },
          "execution_count": 19
        }
      ]
    },
    {
      "cell_type": "markdown",
      "metadata": {
        "id": "GiPGonTzQvoB"
      },
      "source": [
        "<font color='red'><b>C.</b></font> Compute the best threshold (similarly to ROC curve computation) of probability which gives lowest values of metric <b>A</b> for the given data <strong>5_c.csv</strong>\n",
        "<br>\n",
        "\n",
        "you will be predicting label of a data points like this: $y^{pred}= \\text{[0 if y_score < threshold  else 1]}$\n",
        "\n",
        "$ A = 500 \\times \\text{number of false negative} + 100 \\times \\text{numebr of false positive}$\n",
        "\n",
        "<pre>\n",
        "   <b>Note 1:</b> in this data you can see number of negative points > number of positive points\n",
        "   <b>Note 2:</b> use pandas or numpy to read the data from <b>5_c.csv</b>\n",
        "</pre>"
      ]
    },
    {
      "cell_type": "code",
      "metadata": {
        "id": "x5HIJzq1QvoE"
      },
      "source": [
        "#Task3\n",
        "from tqdm import tqdm\n",
        "import numpy as np\n",
        "import pandas as pd\n",
        "df3=pd.read_csv(\"5_c.csv\")\n",
        "df3.head()\n",
        "\n",
        "def best_score(data):\n",
        "  metric={}\n",
        "  for threshold in tqdm(data['prob'].unique()):\n",
        "\n",
        "    data['ythreshold']=np.where(data['prob']<threshold,0,1)\n",
        "    Fp=((data['y']==0) & (data['ythreshold']==1)).sum()\n",
        "    Fn=((data['y']==1) & (data['ythreshold']==0)).sum()\n",
        "    A=500*Fn+100*Fp\n",
        "    metric[threshold]=A\n",
        "\n",
        "  Minimum_threshold=min(metric,key=metric.get)\n",
        "  return Minimum_threshold\n",
        "\n",
        "\n",
        "  \n",
        "    \n",
        "\n"
      ],
      "execution_count": 9,
      "outputs": []
    },
    {
      "cell_type": "code",
      "metadata": {
        "colab": {
          "base_uri": "https://localhost:8080/"
        },
        "id": "Iasqe-dgWu6r",
        "outputId": "1d07b9dc-a1f7-4265-eaee-33ccfe8d0aa3"
      },
      "source": [
        "best_score(df3)\n"
      ],
      "execution_count": 11,
      "outputs": [
        {
          "output_type": "stream",
          "text": [
            "100%|██████████| 2791/2791 [00:04<00:00, 591.39it/s]\n"
          ],
          "name": "stderr"
        },
        {
          "output_type": "execute_result",
          "data": {
            "text/plain": [
              "0.2300390278970873"
            ]
          },
          "metadata": {
            "tags": []
          },
          "execution_count": 11
        }
      ]
    },
    {
      "cell_type": "code",
      "metadata": {
        "id": "hqdR3ssj9S7J"
      },
      "source": [
        "#TASK4\n",
        "\n",
        "# 1. MEAN SQUARE ERROR\n",
        "\n",
        "import numpy as np\n",
        "import pandas as pd\n",
        "df4=pd.read_csv(\"5_d.csv\")\n",
        "def mean_square_error(data):\n",
        "  yactuall=data['y'].to_numpy().astype(int)\n",
        "  ypredd=data['pred'].to_numpy()\n",
        "  squares=[]\n",
        "  for i,j in zip(yactuall,ypredd):\n",
        "    squares.append(np.square((i-j)))\n",
        "  mean_square=sum(squares)/len(squares)\n",
        "  return (mean_square)\n",
        "    "
      ],
      "execution_count": null,
      "outputs": []
    },
    {
      "cell_type": "code",
      "metadata": {
        "colab": {
          "base_uri": "https://localhost:8080/"
        },
        "id": "ORNWHDay-wlg",
        "outputId": "ed4c1c2f-ba85-4a2d-b2ff-d5c14be94fd3"
      },
      "source": [
        "mean_square_error(df4)\n",
        "\n"
      ],
      "execution_count": null,
      "outputs": [
        {
          "output_type": "execute_result",
          "data": {
            "text/plain": [
              "177.16569974554707"
            ]
          },
          "metadata": {
            "tags": []
          },
          "execution_count": 71
        }
      ]
    },
    {
      "cell_type": "code",
      "metadata": {
        "id": "dkrkvUmRDtE_"
      },
      "source": [
        "#2. MAPE(Mean absolute percentage error)\n",
        "#so because actual values can be zero, we have to take modified mape\n",
        "#modified mape= summation of all the absolute error/summation of all the actual values\n",
        "import numpy as np\n",
        "import pandas as pd\n",
        "df4=pd.read_csv(\"5_d.csv\")\n",
        "def mape(data):\n",
        "  yactuall=data['y'].to_numpy().astype(int)\n",
        "  ypredd=data['pred'].to_numpy()\n",
        "  error=[]\n",
        "  for i,j in zip(yactuall,ypredd):\n",
        "    error.append(abs((i-j)))\n",
        "  modified_mape=sum(error)/sum(yactuall)\n",
        "  print(modified_mape)"
      ],
      "execution_count": 4,
      "outputs": []
    },
    {
      "cell_type": "code",
      "metadata": {
        "colab": {
          "base_uri": "https://localhost:8080/"
        },
        "id": "BN6UQFcEDuwe",
        "outputId": "62e5882d-750f-4154-9843-b02b7d0e98fb"
      },
      "source": [
        "mape(df4)"
      ],
      "execution_count": 5,
      "outputs": [
        {
          "output_type": "stream",
          "text": [
            "0.1291202994009687\n"
          ],
          "name": "stdout"
        }
      ]
    },
    {
      "cell_type": "code",
      "metadata": {
        "id": "mUuPiYwAGlEG"
      },
      "source": [
        "#3.R^2 ERROR\n",
        "import numpy as np\n",
        "import pandas as pd\n",
        "df4=pd.read_csv(\"5_d.csv\")\n",
        "\n",
        "def rsquare(data):\n",
        "  yactuall=data['y'].to_numpy().astype(int)\n",
        "  ypredd=data['pred'].to_numpy()\n",
        "  yavg=(sum(yactuall))/len(yactuall)\n",
        "  squares=[]\n",
        "  for i in yactuall:\n",
        "    squares.append(np.square((i-yavg)))\n",
        "  sstotal=sum(squares)\n",
        "\n",
        "  error=[]\n",
        "  for i,j in zip(yactuall,ypredd):\n",
        "    error.append(np.square((i-j)))\n",
        "  ssresidual=sum(error)\n",
        "\n",
        "  rsquare=1-(ssresidual/sstotal)\n",
        "\n",
        "  return rsquare\n",
        "\n",
        "\n",
        "\n",
        "\n"
      ],
      "execution_count": 24,
      "outputs": []
    },
    {
      "cell_type": "code",
      "metadata": {
        "colab": {
          "base_uri": "https://localhost:8080/"
        },
        "id": "_s3kJEIF3p7O",
        "outputId": "68894974-4cc5-43c9-9fdf-07012aaa6a07"
      },
      "source": [
        "rsquare(df4)"
      ],
      "execution_count": 25,
      "outputs": [
        {
          "output_type": "execute_result",
          "data": {
            "text/plain": [
              "0.9563582786990964"
            ]
          },
          "metadata": {
            "tags": []
          },
          "execution_count": 25
        }
      ]
    },
    {
      "cell_type": "code",
      "metadata": {
        "id": "OK_9He3X4vME"
      },
      "source": [
        ""
      ],
      "execution_count": null,
      "outputs": []
    }
  ]
}